{
 "cells": [
  {
   "cell_type": "markdown",
   "metadata": {
    "slideshow": {
     "slide_type": "slide"
    }
   },
   "source": [
    "This is a note while I read Chapter 1 of the book \"Principles of Data Science\". By Sinan Ozdemir. "
   ]
  },
  {
   "cell_type": "markdown",
   "metadata": {
    "slideshow": {
     "slide_type": "slide"
    }
   },
   "source": [
    "The 19th century is the industrial age. \n",
    "\n",
    "The 20th century is the information age. \n",
    "\n",
    "The 21th century is the data age. "
   ]
  },
  {
   "cell_type": "markdown",
   "metadata": {
    "slideshow": {
     "slide_type": "slide"
    }
   },
   "source": [
    "basic terminology of data science \n",
    "\n",
    "the 3 domains of data science \n",
    "\n",
    "basic Python syntax (Julia) "
   ]
  },
  {
   "cell_type": "markdown",
   "metadata": {
    "slideshow": {
     "slide_type": "slide"
    }
   },
   "source": [
    "# definition of Data Science \n",
    "\n",
    "Data science is the art and science of acquiring knowledge through data. \n",
    "\n",
    "Data is a collection of infomation in either an organized or unorganized format. \n",
    "\n",
    "- Organized data \n",
    "\n",
    "- Unorganized data "
   ]
  },
  {
   "cell_type": "markdown",
   "metadata": {
    "slideshow": {
     "slide_type": "slide"
    }
   },
   "source": [
    "Data science is all about how we take data, use it to acquire knowledge, and then use that knowledge to do the following: \n",
    "- Make decisions \n",
    "- Predict the future \n",
    "- Understand the past/present \n",
    "- Create new industries/products "
   ]
  },
  {
   "cell_type": "markdown",
   "metadata": {
    "slideshow": {
     "slide_type": "slide"
    }
   },
   "source": [
    "# 3 domains of knowledge required \n",
    "- Math/Statistics \n",
    "- Computer programming \n",
    "- Domain knowledge "
   ]
  }
 ],
 "metadata": {
  "celltoolbar": "Slideshow",
  "kernelspec": {
   "display_name": "Julia 0.6.2",
   "language": "julia",
   "name": "julia-0.6"
  },
  "language_info": {
   "file_extension": ".jl",
   "mimetype": "application/julia",
   "name": "julia",
   "version": "0.6.2"
  }
 },
 "nbformat": 4,
 "nbformat_minor": 2
}
