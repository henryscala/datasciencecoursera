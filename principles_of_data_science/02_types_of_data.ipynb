{
 "cells": [
  {
   "cell_type": "markdown",
   "metadata": {},
   "source": [
    "This is a note while I read Chapter 2 of the book \"Principles of Data Science\"."
   ]
  },
  {
   "cell_type": "markdown",
   "metadata": {},
   "source": [
    "# topics of this chapter \n",
    "- structured versus unstructured data (sometimes called organized or unorganized)\n",
    "- Quantitative versus qualitative data \n",
    "- The 4 levels of data "
   ]
  },
  {
   "cell_type": "markdown",
   "metadata": {},
   "source": [
    "To know what type of data we have is an important step. \n",
    "\n",
    "Example: If there is a race column in a dataset. caucasian if denoted by 7, while Asia American is 2. Without understanding that these numbers are not actually ordered numbers like we think about them(where 7 is greater than 2 and therefore caucasian is \"greater than\" Asian American) we will make terrible mistakes in our analysis. \n"
   ]
  },
  {
   "cell_type": "markdown",
   "metadata": {},
   "source": [
    "# Structured versus Unstructured data \n",
    "- Structured(organized) data: This is data that can be thought of as observations(rows) and characteristics(columns). \n",
    "- Unstructured(unorganized) data: \n",
    "\n",
    "Most of the data exists in free-form format, we must turn to preanalysis techniques, called preprocessing, in order to apply structure to at least a part of the data for further analysis. \n",
    "\n",
    "Vast majority of learning algorithms require numerical data. \n"
   ]
  },
  {
   "cell_type": "markdown",
   "metadata": {},
   "source": [
    "# Example of data preprocessing \n",
    "When looking at text data, we have many options to transform the set into a structured format. We may do this by applying new characteristics that describe the data. A few such characteristics are [as follows]: \n",
    "\n",
    "- word/phrase count \n",
    "- the existence of certain special characters \n",
    "- The relative length of text \n",
    "- Picking out topics \n"
   ]
  },
  {
   "cell_type": "markdown",
   "metadata": {},
   "source": [
    "# Quantitative versus Qualitative data \n",
    "- Quantutative data: Can be described using numbers, and basic mathematical procedures, including addition, are possible on the set. \n",
    "- Qualitative data: This data cannot be described using numbers and basic mathematics. This data is generally thought of as being described using \"natural\" categories and language. \n",
    "\n"
   ]
  },
  {
   "cell_type": "markdown",
   "metadata": {},
   "source": [
    "# Example \n",
    "- ZIP code is qualitative data \n",
    "Althought it is denoted by numbers, but the mathematics that apply to ZIP code does not make sense. Therefore, ZIP code is qualitative data. "
   ]
  },
  {
   "cell_type": "markdown",
   "metadata": {},
   "source": [
    "# The 4 levels of data \n",
    "A specific characteristic(feature/column) of structured data can be broken down into one of four levels of data. The levels are: \n",
    "\n",
    "- nominal \n",
    "- ordinal \n",
    "- interval \n",
    "- ratio \n"
   ]
  },
  {
   "cell_type": "markdown",
   "metadata": {},
   "source": [
    "# nominal \n",
    "This level consists of data that is described purely by name or category. We cannot perform any quantitative mathematical operations, such as addition or division. These would not make any sense. \n",
    "\n",
    "## Mathematical operations allowed\n",
    "On the nominal level of data, we can only perform \"equality\" and \"set membership\" functions.\n",
    "\n",
    "Example: A square is a rectangle. \n"
   ]
  },
  {
   "cell_type": "markdown",
   "metadata": {},
   "source": [
    "# measures of cener \n",
    "- mean \n",
    "- median \n",
    "- mode: The most common element of the data set. \n",
    "\n",
    "A measure of center is a number  that describes what the data tends to. It is sometimes referred to as the balance point of the data. Mean, median and mode are common examples. \n",
    "\n",
    "In order to find the center of nominal data, we generally turn to the mode of the dataset. Mean and median do not make sense at nominal level. "
   ]
  },
  {
   "cell_type": "markdown",
   "metadata": {},
   "source": [
    "# ordinal \n",
    "We may order the observations from first to last, we cannot add or subtract them to get any real meaning. \n",
    "\n",
    "## Mathematical operations allowed\n",
    "- Ordering \n",
    "- Comparison \n",
    "\n",
    "## Measure of center \n",
    "The median is usually an appropriate way of defining the center of the data. The mean, however, would be impossible because division is not allowed at this level. \n",
    "\n",
    "Example: Red, Orange, Yellow, Green, Blue, Indigo, Violet. They can be ordered by spectrum/frequency of visible light. "
   ]
  },
  {
   "cell_type": "markdown",
   "metadata": {},
   "source": [
    "# interval \n",
    "Data at the interval level allows meaningful subtraction between data points. \n",
    "\n",
    "Temperature is a great example of data at the interval level. If it is 100 degrees Fahrenheight in Texas and 80 degress in Istanbul, Turkey, then Texas is 20 degrees warmer than Istanbul. \n",
    "\n",
    "## Mathematical operations allowed \n",
    "- Addition \n",
    "- Subtraction \n",
    "\n",
    "## Measure of Center \n",
    "At this level, we can use the median and mode to describe this data; however, usually the most accurate description of the center of data would be arithmetic mean, more commonly referred to as, simply, \"the mean\". \n",
    "\n",
    "## Measures of variation \n",
    "It is one thing to talk about the center of the data but, in data science, it is also very important to mention how \"spread out\" the data is.\n",
    "\n",
    "calculate Standard deviation : \n",
    "\n",
    "1. Find the mean of the data \n",
    "2. for each number in the dataset, subtract it from the mean and then square it. \n",
    "3. Find the average of each square difference. \n",
    "4. Take the square root of the number obtained in step 3. This is the standard deviation. \n"
   ]
  },
  {
   "cell_type": "markdown",
   "metadata": {},
   "source": [
    "# ratio \n",
    "Not only can we define order and difference, the ratio level allows us to multiply and divide as well. \n",
    "\n",
    "The arithmetic mean still holds meaning at this level, as does a new type of mean called the geometric mean. This measure is generally not used as much even at the ratio level, but is worth mentioning. It is the nth squre root of the product of all the values. \n",
    "\n",
    "$$\n",
    "\\sqrt[n]{x1 . x2 . ... . xn}\n",
    "$$"
   ]
  }
 ],
 "metadata": {
  "kernelspec": {
   "display_name": "Julia 0.6.2",
   "language": "julia",
   "name": "julia-0.6"
  },
  "language_info": {
   "file_extension": ".jl",
   "mimetype": "application/julia",
   "name": "julia",
   "version": "0.6.2"
  }
 },
 "nbformat": 4,
 "nbformat_minor": 2
}
